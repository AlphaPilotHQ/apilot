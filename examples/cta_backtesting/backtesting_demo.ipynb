{
 "cells": [
  {
   "cell_type": "code",
   "execution_count": 2,
   "metadata": {},
   "outputs": [],
   "source": [
    "from datetime import datetime\n",
    "\n",
    "from vnpy.trader.optimize import OptimizationSetting\n",
    "from vnpy.cta_strategy import BacktestingEngine\n",
    "from vnpy.cta_strategy.strategies.atr_rsi_strategy import AtrRsiStrategy"
   ]
  },
  {
   "cell_type": "code",
   "execution_count": 3,
   "metadata": {},
   "outputs": [],
   "source": [
    "engine = BacktestingEngine()\n",
    "engine.set_parameters(\n",
    "    vt_symbol=\"IF888.CFFEX\",\n",
    "    interval=\"1m\",\n",
    "    start=datetime(2019, 1, 1),\n",
    "    end=datetime(2019, 4, 30),\n",
    "    rate=0.3/10000,\n",
    "    slippage=0.2,\n",
    "    size=300,\n",
    "    pricetick=0.2,\n",
    "    capital=1_000_000,\n",
    ")\n",
    "engine.add_strategy(AtrRsiStrategy, {})"
   ]
  },
  {
   "cell_type": "code",
   "execution_count": 4,
   "metadata": {
    "scrolled": false
   },
   "outputs": [
    {
     "name": "stdout",
     "output_type": "stream",
     "text": [
      "2025-03-09 22:46:52.271700\t开始加载历史数据\n",
      "2025-03-09 22:46:52.271776\t加载进度：# [0%]\n",
      "2025-03-09 22:46:52.283451\t加载进度：# [9%]\n",
      "2025-03-09 22:46:52.283766\t加载进度：## [18%]\n",
      "2025-03-09 22:46:52.284112\t加载进度：### [28%]\n",
      "2025-03-09 22:46:52.284741\t加载进度：#### [37%]\n",
      "2025-03-09 22:46:52.285150\t加载进度：##### [46%]\n",
      "2025-03-09 22:46:52.285396\t加载进度：###### [55%]\n",
      "2025-03-09 22:46:52.285624\t加载进度：####### [65%]\n",
      "2025-03-09 22:46:52.285844\t加载进度：######## [74%]\n",
      "2025-03-09 22:46:52.286061\t加载进度：######### [83%]\n",
      "2025-03-09 22:46:52.286276\t加载进度：########## [92%]\n",
      "2025-03-09 22:46:52.286496\t历史数据加载完成，数据量：0\n",
      "2025-03-09 22:46:52.286796\t策略初始化完成\n",
      "2025-03-09 22:46:52.286804\t开始回放历史数据\n",
      "2025-03-09 22:46:52.286811\t历史数据回放结束\n",
      "2025-03-09 22:46:52.286836\t开始计算逐日盯市盈亏\n",
      "2025-03-09 22:46:52.286842\t回测成交记录为空\n"
     ]
    },
    {
     "ename": "KeyError",
     "evalue": "\"None of ['date'] are in the columns\"",
     "output_type": "error",
     "traceback": [
      "\u001b[31m---------------------------------------------------------------------------\u001b[39m",
      "\u001b[31mKeyError\u001b[39m                                  Traceback (most recent call last)",
      "\u001b[32m/var/folders/t7/t85zttvj4s72fpb9tpqj7r3w0000gn/T/ipykernel_6643/1754052219.py\u001b[39m in \u001b[36m?\u001b[39m\u001b[34m()\u001b[39m\n\u001b[32m      1\u001b[39m engine.load_data()\n\u001b[32m      2\u001b[39m engine.run_backtesting()\n\u001b[32m----> \u001b[39m\u001b[32m3\u001b[39m df = engine.calculate_result()\n\u001b[32m      4\u001b[39m engine.calculate_statistics()\n\u001b[32m      5\u001b[39m engine.show_chart()\n",
      "\u001b[32m~/Documents/GitHub/vnpy/.venv/lib/python3.12/site-packages/vnpy_ctastrategy/backtesting.py\u001b[39m in \u001b[36m?\u001b[39m\u001b[34m(self)\u001b[39m\n\u001b[32m    284\u001b[39m         \u001b[38;5;28;01mfor\u001b[39;00m daily_result \u001b[38;5;28;01min\u001b[39;00m self.daily_results.values():\n\u001b[32m    285\u001b[39m             \u001b[38;5;28;01mfor\u001b[39;00m key, value \u001b[38;5;28;01min\u001b[39;00m daily_result.__dict__.items():\n\u001b[32m    286\u001b[39m                 results[key].append(value)\n\u001b[32m    287\u001b[39m \n\u001b[32m--> \u001b[39m\u001b[32m288\u001b[39m         self.daily_df = DataFrame.from_dict(results).set_index(\u001b[33m\"date\"\u001b[39m)\n\u001b[32m    289\u001b[39m \n\u001b[32m    290\u001b[39m         self.output(_(\u001b[33m\"逐日盯市盈亏计算完成\"\u001b[39m))\n\u001b[32m    291\u001b[39m         \u001b[38;5;28;01mreturn\u001b[39;00m self.daily_df\n",
      "\u001b[32m~/Documents/GitHub/vnpy/.venv/lib/python3.12/site-packages/pandas/core/frame.py\u001b[39m in \u001b[36m?\u001b[39m\u001b[34m(self, keys, drop, append, inplace, verify_integrity)\u001b[39m\n\u001b[32m   6118\u001b[39m                     \u001b[38;5;28;01mif\u001b[39;00m \u001b[38;5;28;01mnot\u001b[39;00m found:\n\u001b[32m   6119\u001b[39m                         missing.append(col)\n\u001b[32m   6120\u001b[39m \n\u001b[32m   6121\u001b[39m         \u001b[38;5;28;01mif\u001b[39;00m missing:\n\u001b[32m-> \u001b[39m\u001b[32m6122\u001b[39m             \u001b[38;5;28;01mraise\u001b[39;00m KeyError(f\"None of {missing} are in the columns\")\n\u001b[32m   6123\u001b[39m \n\u001b[32m   6124\u001b[39m         \u001b[38;5;28;01mif\u001b[39;00m inplace:\n\u001b[32m   6125\u001b[39m             frame = self\n",
      "\u001b[31mKeyError\u001b[39m: \"None of ['date'] are in the columns\""
     ]
    }
   ],
   "source": [
    "engine.load_data()\n",
    "engine.run_backtesting()\n",
    "df = engine.calculate_result()\n",
    "engine.calculate_statistics()\n",
    "engine.show_chart()"
   ]
  },
  {
   "cell_type": "code",
   "execution_count": null,
   "metadata": {
    "scrolled": false
   },
   "outputs": [],
   "source": [
    "setting = OptimizationSetting()\n",
    "setting.set_target(\"sharpe_ratio\")\n",
    "setting.add_parameter(\"atr_length\", 25, 27, 1)\n",
    "setting.add_parameter(\"atr_ma_length\", 10, 30, 10)\n",
    "\n",
    "engine.run_ga_optimization(setting)"
   ]
  },
  {
   "cell_type": "code",
   "execution_count": null,
   "metadata": {
    "scrolled": false
   },
   "outputs": [],
   "source": [
    "engine.run_bf_optimization(setting)"
   ]
  },
  {
   "cell_type": "code",
   "execution_count": null,
   "metadata": {},
   "outputs": [],
   "source": []
  }
 ],
 "metadata": {
  "kernelspec": {
   "display_name": ".venv",
   "language": "python",
   "name": "python3"
  },
  "language_info": {
   "codemirror_mode": {
    "name": "ipython",
    "version": 3
   },
   "file_extension": ".py",
   "mimetype": "text/x-python",
   "name": "python",
   "nbconvert_exporter": "python",
   "pygments_lexer": "ipython3",
   "version": "3.12.2"
  }
 },
 "nbformat": 4,
 "nbformat_minor": 2
}
